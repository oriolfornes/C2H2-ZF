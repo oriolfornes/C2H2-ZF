{
 "cells": [
  {
   "cell_type": "markdown",
   "metadata": {},
   "source": [
    "The following code aims at identifying the total number of Cys2-His2 zinc finger (C2H2-zf) domains in UniProt that are covered in the PDB in complex with DNA or not.\n",
    "\n",
    "Initially, I relied on annotations from [Pfam](ftp://ftp.ebi.ac.uk/pub/databases/Pfam/current_release/Pfam-A.regions.uniprot.tsv.gz) and [Uniprot](ftp://ftp.uniprot.org/pub/databases/uniprot/current_release/knowledgebase/complete/docs/pdbtosp.txt) (downloaded using the bash script [get_data.sh](./data/get_data.sh)), and focused on the [classic zinc finger domain](https://pfam.xfam.org/family/PF00096)."
   ]
  },
  {
   "cell_type": "code",
   "execution_count": 1,
   "metadata": {},
   "outputs": [],
   "source": [
    "from Bio import SeqIO\n",
    "import gzip\n",
    "import os\n",
    "import pandas as pd\n",
    "import pickle\n",
    "import re\n",
    "import subprocess as sp\n",
    "import tarfile\n",
    "\n",
    "# Initialize\n",
    "pfam_accession = \"PF00096\"\n",
    "prosite_id = \"PS50157\"\n",
    "CTCF = \"P49711\"\n",
    "\n",
    "#++++++++++++++++#\n",
    "# Pickle recipes #\n",
    "#++++++++++++++++#\n",
    "\n",
    "# Adapted from \"Load Faster in Python With Compressed Pickles\"\n",
    "# https://medium.com/better-programming/load-fast-load-big-with-compressed-pickles-5f311584507e\n",
    "\n",
    "def save_pickle(file_name, pkl):\n",
    "    \"\"\"\n",
    "    Saves a pickle.\n",
    "    \"\"\"\n",
    "\n",
    "    with gzip.open(file_name, \"wb\") as f:\n",
    "        pickle.dump(pkl, f)\n",
    "\n",
    "def load_pickle(file_name):\n",
    "    \"\"\"\n",
    "    Loads and returns a pickle.\n",
    "    \"\"\"\n",
    "\n",
    "    with gzip.open(file_name, \"rb\") as f:\n",
    "        pkl = pickle.load(f)\n",
    "\n",
    "    return(pkl)"
   ]
  },
  {
   "cell_type": "markdown",
   "metadata": {},
   "source": [
    "I extracted the UniProt human proteome reference sequences (only one per gene) as [Seq](https://biopython.org/wiki/Seq) objects (*i.e.* `human_seqs`)..."
   ]
  },
  {
   "cell_type": "code",
   "execution_count": 3,
   "metadata": {},
   "outputs": [
    {
     "name": "stdout",
     "output_type": "stream",
     "text": [
      "20595\n"
     ]
    }
   ],
   "source": [
    "# Initialize\n",
    "human_seqs_pickle = \"./pkl/human_sequences.pkl.gz\"\n",
    "\n",
    "if not os.path.exists(human_seqs_pickle):\n",
    "\n",
    "    # Initialize\n",
    "    human_seqs = {}\n",
    "    pattern = re.compile(\"^\\w{2}\\|(\\w+)\")\n",
    "\n",
    "    with gzip.open(\"./data/UP000005640_9606.fasta.gz\", \"rt\") as f:\n",
    "        for seq_record in SeqIO.parse(f, \"fasta\"):\n",
    "            uniacc = pattern.match(seq_record.id)\n",
    "            human_seqs.setdefault(uniacc.group(1), seq_record.seq)\n",
    "\n",
    "    save_pickle(human_seqs_pickle, human_seqs)\n",
    "\n",
    "else:\n",
    "\n",
    "    human_seqs = load_pickle(human_seqs_pickle)\n",
    "\n",
    "# Sanity check:\n",
    "# According to UniProt's human reference proteome (https://www.uniprot.org/proteomes/UP000005640),\n",
    "# the gene count is 20,595\n",
    "print(len(human_seqs))"
   ]
  },
  {
   "cell_type": "markdown",
   "metadata": {},
   "source": [
    "... and all zinc fingers, according to Pfam, mapped to human (and other UniProt) proteins (*i.e.* `uprot2pfam`)."
   ]
  },
  {
   "cell_type": "code",
   "execution_count": 5,
   "metadata": {},
   "outputs": [
    {
     "name": "stdout",
     "output_type": "stream",
     "text": [
      "160662\n",
      "678\n",
      "6 {(294, 316), (437, 460), (555, 575), (379, 401), (322, 345), (266, 288)}\n"
     ]
    }
   ],
   "source": [
    "# Initialize\n",
    "uprot2pfam_pickle = \"./pkl/uniprot_to_pfam.pkl.gz\"\n",
    "\n",
    "if not os.path.exists(uprot2pfam_pickle):\n",
    "\n",
    "    # Initialize\n",
    "    uprot2pfam = {}\n",
    "\n",
    "    with gzip.open(\"./data/Pfam-A.regions.uniprot.tsv.gz\", \"rt\") as f:\n",
    "         for chunk in pd.read_csv(f, encoding=\"utf-8\", sep=\"\\t\", chunksize=1024):\n",
    "            for index, row in chunk.iterrows():\n",
    "                uniacc, seq_version, crc64, md5, pfam_acc, start, end = row.tolist()\n",
    "                if pfam_acc == pfam_accession:\n",
    "                    uprot2pfam.setdefault(uniacc, set())\n",
    "                    uprot2pfam[uniacc].add(tuple([start, end]))\n",
    "\n",
    "    save_pickle(uprot2pfam_pickle, uprot2pfam)\n",
    "\n",
    "else:\n",
    "\n",
    "    uprot2pfam = load_pickle(uprot2pfam_pickle)\n",
    "\n",
    "# Sanity checks:\n",
    "# The total number of C2H2-zf proteins in UniProt is?\n",
    "print(len(uprot2pfam))\n",
    "# According to \"The Human Transcription Factors\" (PMID: 29425488), the total C2H2-zf TFs is 747\n",
    "print(len(set(uprot2pfam.keys()).intersection(set(human_seqs.keys()))))\n",
    "# According to \"Analysis of the vertebrate insulator protein CTCF-binding sites in the human genome\" (PMID: 17382889),\n",
    "# the total number of C2H2-zf domains for CTCF is 11\n",
    "print(len(uprot2pfam[CTCF]), uprot2pfam[CTCF])"
   ]
  },
  {
   "cell_type": "markdown",
   "metadata": {},
   "source": [
    "Together, the fact that both i) the number of human C2H2-zf proteins and ii) CTCF C2H2-zf domains are lower than expected suggests that there might be something wrong with the Pfam thresholding used by UniProt.\n",
    "\n",
    "Instead, I switched to PROSITE domain annotations by the [zinc finger C2H2 type domain profile](https://prosite.expasy.org/PS50157), which [match CTCF better](https://www.uniprot.org/uniprot/P49711).\n",
    "\n",
    "The file [uniprot2prosite.tab.gz](./data/uniprot2prosite.tab.gz) is obtained from [UniProt](https://www.uniprot.org/database/DB-0084) by customizing the output to `Entry`, `Gene names`, `Organism` and `PROSITE`.\n",
    "\n",
    "I extracted all C2H2-zf proteins from UniProt, according to PROSITE (*i.e.* `c2h2_zfs`)."
   ]
  },
  {
   "cell_type": "code",
   "execution_count": 6,
   "metadata": {},
   "outputs": [
    {
     "name": "stdout",
     "output_type": "stream",
     "text": [
      "353167\n",
      "762\n"
     ]
    }
   ],
   "source": [
    "# Initialize\n",
    "c2h2_zf_pickle = \"./pkl/c2h2_zf.pkl.gz\"\n",
    "pattern = re.compile(prosite_id)\n",
    "\n",
    "if not os.path.exists(c2h2_zf_pickle):\n",
    "\n",
    "    # Initialize\n",
    "    c2h2_zfs = {}\n",
    "\n",
    "    with gzip.open(\"./data/uniprot2prosite.tab.gz\", \"rt\") as f:\n",
    "         for chunk in pd.read_csv(f, encoding=\"utf-8\", sep=\"\\t\", chunksize=1024):\n",
    "            for index, row in chunk.iterrows():\n",
    "                uniacc, gene_name, organism, prosites = row.tolist()\n",
    "                if pattern.search(prosites):\n",
    "                    c2h2_zf.setdefault(organism, set())\n",
    "                    c2h2_zf[organism].add(uniacc)\n",
    "\n",
    "    save_pickle(c2h2_zf_pickle, c2h2_zf)\n",
    "\n",
    "else:\n",
    "\n",
    "    c2h2_zfs = load_pickle(c2h2_zf_pickle)    \n",
    "\n",
    "# Sanity checks:\n",
    "# The total number of C2H2-zf proteins in UniProt is?\n",
    "c2h2_zf_set = set()\n",
    "for f in c2h2_zfs:\n",
    "    c2h2_zf_set.update(c2h2_zfs[f])\n",
    "print(len(c2h2_zf_set))\n",
    "# According to \"The Human Transcription Factors\" (PMID: 29425488), the total C2H2-zf TFs is 747\n",
    "print(len(c2h2_zfs[\"Homo sapiens (Human)\"].intersection(set(human_seqs.keys()))))"
   ]
  },
  {
   "cell_type": "markdown",
   "metadata": {},
   "source": [
    "Then, I retrieved the sequences (only one per gene) of all C2H2-zf proteins from the UniProt [reference proteomes of eukaryotes](ftp://ftp.uniprot.org/pub/databases/uniprot/current_release/knowledgebase/reference_proteomes/Reference_Proteomes_2020_02.tar.gz)."
   ]
  },
  {
   "cell_type": "code",
   "execution_count": 5,
   "metadata": {},
   "outputs": [
    {
     "name": "stdout",
     "output_type": "stream",
     "text": [
      "186703\n"
     ]
    }
   ],
   "source": [
    "# Initialize\n",
    "c2h2_zf_seqs_pickle = \"./pkl/c2h2_zf_sequences.pkl.gz\"\n",
    "\n",
    "if not os.path.exists(c2h2_zf_seqs_pickle):\n",
    "\n",
    "    # Initialize\n",
    "    c2h2_zf_seqs = {}\n",
    "    dummy_dir = \"./data/\"\n",
    "    pattern = re.compile(\"Eukaryota/UP\\d+_\\d+.fasta.gz\")\n",
    "    pattern2 = re.compile(\"^\\w{2}\\|(\\w+)\")\n",
    "    reference_proteomes_fasta = \"./data/Reference_Proteomes_2020_01.tar.gz\"\n",
    "\n",
    "    with tarfile.open(reference_proteomes_fasta, \"r:gz\") as tar:\n",
    "        for member in tar.getmembers():\n",
    "            # Skip organisms other than eukaryotes\n",
    "            if not member.name.startswith(\"Eukaryota\"):\n",
    "                continue\n",
    "            # Skip files other than reference proteomes\n",
    "            if pattern.search(member.name):\n",
    "                reference_proteome_file = os.path.join(dummy_dir, member.name) \n",
    "                if not os.path.exists(reference_proteome_file):\n",
    "                    tar.extract(member, path=dummy_dir)\n",
    "                with gzip.open(reference_proteome_file, \"rt\") as f:\n",
    "                    for seq_record in SeqIO.parse(f, \"fasta\"):\n",
    "                        uniacc = pattern2.match(seq_record.id)\n",
    "                        if uniacc.group(1) in c2h2_zf_set:\n",
    "                            c2h2_zf_seqs.setdefault(uniacc.group(1), str(seq_record.seq))\n",
    "\n",
    "    save_pickle(c2h2_zf_seqs_pickle, c2h2_zf_seqs)\n",
    "\n",
    "else:\n",
    "\n",
    "    c2h2_zf_seqs = load_pickle(c2h2_zf_seqs_pickle)\n",
    "\n",
    "# Total C2H2-zf transcription factors in reference proteomes of eukaryotes is?\n",
    "print(len(c2h2_zf_seqs))"
   ]
  },
  {
   "cell_type": "markdown",
   "metadata": {},
   "source": [
    "Finally, I scanned the retrieved sequences with the [zinc finger C2H2 type domain profile](https://prosite.expasy.org/PS50157) from PROSITE and, for each protein, I stored the positions of each match (*i.e.* `uprot2prosite`)."
   ]
  },
  {
   "cell_type": "code",
   "execution_count": 9,
   "metadata": {},
   "outputs": [
    {
     "name": "stdout",
     "output_type": "stream",
     "text": [
      "186703\n",
      "963553\n",
      "11 {('523', '546'), ('495', '522'), ('351', '378'), ('322', '350'), ('555', '573'), ('437', '465'), ('266', '293'), ('379', '406'), ('294', '321'), ('407', '435'), ('467', '494')}\n"
     ]
    }
   ],
   "source": [
    "# Initialize\n",
    "uprot2prosite_pickle = \"./pkl/uniprot_to_prosite.pkl.gz\"\n",
    "\n",
    "def scan_prosite(uniacc, uniacc2seqs):\n",
    "\n",
    "    # Initialize\n",
    "    matches = set()\n",
    "    fasta_file = \"./data/%s.fasta\" % uniacc\n",
    "\n",
    "    if os.path.exists(fasta_file):\n",
    "        os.remove(fasta_file)\n",
    "\n",
    "    with open(fasta_file, \"w\") as o:\n",
    "        o.write(\">%s\\n%s\\n\" % (uniacc, uniacc2seqs[uniacc]))\n",
    "\n",
    "    # Run PROSITE\n",
    "    cmd = \"perl %s/ps_scan.pl -d %s/prosite.dat -p %s %s\" % (prosite_dir, prosite_dir, prosite_id, fasta_file)\n",
    "    p = sp.run([cmd], shell=True, stdout=sp.PIPE, stderr=sp.PIPE)\n",
    "    for line in p.stdout.decode(\"utf-8\").split(\"\\n\"):\n",
    "        if not line.startswith(\">\"):\n",
    "            match = re.findall(\"\\S+\", line)\n",
    "            if match:\n",
    "                matches.add(tuple([match[0], match[2]]))\n",
    "\n",
    "    os.remove(fasta_file)\n",
    "\n",
    "    return(uniacc, matches)\n",
    "\n",
    "if not os.path.exists(uprot2prosite_pickle):\n",
    "\n",
    "    # Initialize\n",
    "    uprot2prosite = {}\n",
    "    c2h2_zf_prosite_matches = \"./data/c2h2_zf_prosite_matches.txt\"\n",
    "\n",
    "    if not os.path.exists(c2h2_zf_prosite_matches):\n",
    "\n",
    "        # Initialize\n",
    "        prosite_dir = \"/space/home/oriol/Programs/ps_scan\"\n",
    "        c2h2_zf_seqs_fasta = \"./data/c2h2_zf_sequences.fasta\"\n",
    "\n",
    "        if not os.path.exists(c2h2_zf_seqs_fasta):\n",
    "            with open(c2h2_zf_seqs_fasta, \"w\") as o:\n",
    "                for uniacc in c2h2_zf_seqs:\n",
    "                    o.write(\">%s\\n%s\\n\" % (uniacc, c2h2_zf_seqs[uniacc]))\n",
    "\n",
    "        # Run PROSITE\n",
    "        cmd = \"perl %s/ps_scan.pl -d %s/prosite.dat -p %s %s > %s\" % (prosite_dir, prosite_dir, prosite_id,\n",
    "            c2h2_zf_seqs_fasta, c2h2_zf_prosite_matches)\n",
    "        os.system(cmd)\n",
    "\n",
    "    with open(c2h2_zf_prosite_matches) as f:\n",
    "        for line in f:\n",
    "            if line.startswith(\">\"):\n",
    "                m = re.search(\">(\\S+) :\", line)\n",
    "                uniacc = m.group(1)\n",
    "                uprot2prosite.setdefault(uniacc, set())\n",
    "            else:\n",
    "                m = re.search(\"(\\d+) - (\\d+)\", line)\n",
    "                if m:\n",
    "                    uprot2prosite[uniacc].add(tuple([m.group(1), m.group(2)]))\n",
    "\n",
    "    save_pickle(uprot2prosite_pickle, uprot2prosite)\n",
    "\n",
    "else:\n",
    "\n",
    "    uprot2prosite = load_pickle(uprot2prosite_pickle)\n",
    "\n",
    "# Sanity checks:\n",
    "# The total number of C2H2 zinc finger proteins in UniProt reference proteomes of eukaryotes is?\n",
    "print(len(uprot2prosite))\n",
    "# And the total number of C2H2 zinc finger domains is?\n",
    "print(sum([len(uprot2prosite[uniacc]) for uniacc in uprot2prosite]))\n",
    "# According to \"Analysis of the vertebrate insulator protein CTCF-binding sites in the human genome\" (PMID: 17382889),\n",
    "# the total number of C2H2-zf domains for CTCF is 11\n",
    "print(len(uprot2prosite[CTCF]), uprot2prosite[CTCF])"
   ]
  },
  {
   "cell_type": "markdown",
   "metadata": {},
   "source": [
    "The PROSITE results are more in line with our expectations."
   ]
  },
  {
   "cell_type": "code",
   "execution_count": null,
   "metadata": {},
   "outputs": [],
   "source": []
  }
 ],
 "metadata": {
  "kernelspec": {
   "display_name": "Python 3",
   "language": "python",
   "name": "python3"
  },
  "language_info": {
   "codemirror_mode": {
    "name": "ipython",
    "version": 3
   },
   "file_extension": ".py",
   "mimetype": "text/x-python",
   "name": "python",
   "nbconvert_exporter": "python",
   "pygments_lexer": "ipython3",
   "version": "3.8.2"
  }
 },
 "nbformat": 4,
 "nbformat_minor": 2
}
