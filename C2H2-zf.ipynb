{
 "cells": [
  {
   "cell_type": "markdown",
   "metadata": {},
   "source": [
    "The following code aims at identifying the total number of Cys2-His2 zinc finger (C2H2-zf) domains in UniProt that are covered in the PDB (a) in complex with DNA or (b) not. We rely on mappings from [Pfam](ftp://ftp.ebi.ac.uk/pub/databases/Pfam/current_release/Pfam-A.regions.uniprot.tsv.gz) and [Uniprot](ftp://ftp.uniprot.org/pub/databases/uniprot/current_release/knowledgebase/complete/docs/pdbtosp.txt) (downloaded using the bash script [get_data.sh](./data/get_data.sh)) and focus on the [classic zinc finger domain](https://pfam.xfam.org/family/PF00096)."
   ]
  },
  {
   "cell_type": "code",
   "execution_count": 7,
   "metadata": {},
   "outputs": [],
   "source": [
    "from Bio import SeqIO\n",
    "import gzip\n",
    "import os\n",
    "import pandas as pd\n",
    "import pickle\n",
    "import re\n",
    "\n",
    "# Initialize\n",
    "c2h2_zf_pfam_acc = \"PF00096\"\n",
    "c2h2_zf_pfam_name = \"zf-C2H2\"\n",
    "c2h2_zf_prosite_id = \"PS50157\"\n",
    "\n",
    "#++++++++++++++++#\n",
    "# Pickle recipes #\n",
    "#++++++++++++++++#\n",
    "\n",
    "# Adapted from \"Load Faster in Python With Compressed Pickles\"\n",
    "# https://medium.com/better-programming/load-fast-load-big-with-compressed-pickles-5f311584507e\n",
    "\n",
    "def save_pickle(file_name, pkl):\n",
    "    \"\"\"\n",
    "    Saves a pickle.\n",
    "    \"\"\"\n",
    "\n",
    "    with gzip.open(file_name, \"wb\") as f:\n",
    "        pickle.dump(pkl, f)\n",
    "\n",
    "def load_pickle(file_name):\n",
    "    \"\"\"\n",
    "    Loads and returns a pickle.\n",
    "    \"\"\"\n",
    "\n",
    "    with gzip.open(file_name, \"rb\") as f:\n",
    "        pkl = pickle.load(f)\n",
    "\n",
    "    return(pkl)"
   ]
  },
  {
   "cell_type": "markdown",
   "metadata": {},
   "source": [
    "Extract all UniProt human proteome reference sequences as [Seq](https://biopython.org/wiki/Seq) objects (*i.e.* `human_seqs`)."
   ]
  },
  {
   "cell_type": "code",
   "execution_count": 2,
   "metadata": {},
   "outputs": [
    {
     "name": "stdout",
     "output_type": "stream",
     "text": [
      "20595\n"
     ]
    }
   ],
   "source": [
    "# Initialize\n",
    "human_seqs_pickle = \"./pkl/human_sequences.pkl.gz\"\n",
    "\n",
    "if not os.path.exists(human_seqs_pickle):\n",
    "\n",
    "    # Initialize\n",
    "    human_seqs = {}\n",
    "    pattern = re.compile(\"^\\w{2}\\|(\\w+)\")\n",
    "    human_reference_proteome_fasta = \"./data/UP000005640_9606.fasta.gz\"\n",
    "\n",
    "    with gzip.open(human_reference_proteome_fasta, \"rt\") as f:\n",
    "        for seq_record in SeqIO.parse(f, \"fasta\"):\n",
    "            uniacc = pattern.match(seq_record.id)\n",
    "            human_seqs.setdefault(uniacc.group(1), seq_record.seq)\n",
    "\n",
    "    save_pickle(human_seqs_pickle, human_seqs)\n",
    "\n",
    "else:\n",
    "\n",
    "    human_seqs = load_pickle(human_seqs_pickle)\n",
    "\n",
    "# Sanity check:\n",
    "# According to UniProt's human reference proteome (https://www.uniprot.org/proteomes/UP000005640)\n",
    "# Gene count is 20,595\n",
    "print(len(human_seqs))"
   ]
  },
  {
   "cell_type": "markdown",
   "metadata": {},
   "source": [
    "Extract all zinc fingers, according to Pfam, mapped to human (and other UniProt) proteins (*i.e.* `uprot2pfam`)."
   ]
  },
  {
   "cell_type": "code",
   "execution_count": 3,
   "metadata": {},
   "outputs": [
    {
     "name": "stdout",
     "output_type": "stream",
     "text": [
      "160662\n",
      "678\n",
      "6\n"
     ]
    }
   ],
   "source": [
    "# Initialize\n",
    "uprot2pfam_pickle = \"./pkl/uniprot_to_pfam.pkl.gz\"\n",
    "\n",
    "if not os.path.exists(uprot2pfam_pickle):\n",
    "\n",
    "    # Initialize\n",
    "    uprot2pfam = {}\n",
    "    uprot2pfam_mappings_file = \"./data/Pfam-A.regions.uniprot.tsv.gz\"\n",
    "\n",
    "    with gzip.open(uprot2pfam_mappings_file, \"rt\") as f:\n",
    "         for chunk in pd.read_csv(f, encoding=\"utf-8\", sep=\"\\t\", chunksize=1024):\n",
    "            for index, row in chunk.iterrows():\n",
    "                uniacc, seq_version, crc64, md5, pfam_acc, start, end = row.tolist()\n",
    "                if pfam_acc == c2h2_zf_pfam_acc:\n",
    "                    uprot2pfam.setdefault(uniacc, set())\n",
    "                    uprot2pfam[uniacc].add(tuple([start, end]))\n",
    "\n",
    "    save_pickle(uprot2pfam_pickle, uprot2pfam)\n",
    "\n",
    "else:\n",
    "\n",
    "    uprot2pfam = load_pickle(uprot2pfam_pickle)\n",
    "\n",
    "# Sanity checks:\n",
    "print(len(uprot2pfam))\n",
    "# According to The Human Transcription Factors (PMID: 29425488)\n",
    "# Total C2H2-zf transcription factors is 747\n",
    "print(len(set(uprot2pfam.keys()).intersection(set(human_seqs.keys()))))\n",
    "# According to Analysis of the vertebrate insulator protein CTCF-binding sites in the human genome (PMID: 17382889)\n",
    "# Total C2H2-zf domains for CTCF is 11\n",
    "print(len(uprot2pfam[\"P49711\"]))"
   ]
  },
  {
   "cell_type": "markdown",
   "metadata": {},
   "source": [
    "There is obviously something wrong with the thresholding used by Pfam; it misses half of the zinc finger domains for CTCF. Instead we use PROSITE domain annotations by the [zinc finger C2H2 type domain profile](https://prosite.expasy.org/PS50157), which match CTCF better.\n",
    "\n",
    "The file [uniprot2prosite.tab.gz](./data/uniprot2prosite.tab.gz) is obtained from [UniProt](https://www.uniprot.org/database/DB-0084) by customizing the output columns to `Entry`, `Gene names`, `Organism` and `PROSITE`.\n",
    "\n",
    "Extract all zinc fingers, according to PROSITE, mapped to human (and other UniProt) proteins (*i.e.* `uprot2prosite`)."
   ]
  },
  {
   "cell_type": "code",
   "execution_count": 36,
   "metadata": {},
   "outputs": [
    {
     "name": "stdout",
     "output_type": "stream",
     "text": [
      "9143\n",
      "762\n",
      "353167\n"
     ]
    }
   ],
   "source": [
    "# Initialize\n",
    "uprot2prosite_pickle = \"./pkl/uniprot_to_prosite.pkl.gz\"\n",
    "uprot2prosite_file = \"./data/uniprot_to_prosite.txt\"\n",
    "pattern = re.compile(c2h2_zf_prosite_id)\n",
    "\n",
    "if not os.path.exists(uprot2prosite_pickle):\n",
    "\n",
    "    # Initialize\n",
    "    uprot2prosite = {}\n",
    "    uprot2prosite_mappings_file = \"./data/uniprot2prosite.tab.gz\"\n",
    "\n",
    "    with gzip.open(uprot2prosite_mappings_file, \"rt\") as f:\n",
    "         for chunk in pd.read_csv(f, encoding=\"utf-8\", sep=\"\\t\", chunksize=1024):\n",
    "            for index, row in chunk.iterrows():\n",
    "                uniacc, gene_name, organism, prosites = row.tolist()\n",
    "                if pattern.search(prosites):\n",
    "                    uprot2prosite.setdefault(organism, set())\n",
    "                    uprot2prosite[organism].add(uniacc)\n",
    "\n",
    "    save_pickle(uprot2prosite_pickle, uprot2prosite)\n",
    "\n",
    "else:\n",
    "\n",
    "    uprot2prosite = load_pickle(uprot2prosite_pickle)    \n",
    "\n",
    "if not os.path.exists(uprot2prosite_file):\n",
    "\n",
    "    with open(uprot2prosite_file, \"w\") as o:\n",
    "        for f in uprot2prosite:\n",
    "            o.write(\"%s\\n\" % \"\\n\".join(uprot2prosite[f]))\n",
    "\n",
    "# Sanity checks:\n",
    "print(len(uprot2prosite))\n",
    "# According to The Human Transcription Factors (PMID: 29425488)\n",
    "# Total C2H2-zf transcription factors is 747\n",
    "print(len(uprot2prosite[\"Homo sapiens (Human)\"].intersection(set(human_seqs.keys()))))\n",
    "# Total C2H2-zf transcription factors in UniProt is?\n",
    "print(sum([len(uprot2prosite[f]) for f in uprot2prosite])) \n",
    "# According to Analysis of the vertebrate insulator protein CTCF-binding sites in the human genome (PMID: 17382889)\n",
    "# Total C2H2-zf domains for CTCF is 11\n",
    "#print(len(uprot2pfam[\"P49711\"]))"
   ]
  },
  {
   "cell_type": "markdown",
   "metadata": {},
   "source": [
    "Retrieve the sequences of all C2H2-zf proteins from UniProt."
   ]
  },
  {
   "cell_type": "code",
   "execution_count": null,
   "metadata": {},
   "outputs": [],
   "source": []
  }
 ],
 "metadata": {
  "kernelspec": {
   "display_name": "Python 3",
   "language": "python",
   "name": "python3"
  },
  "language_info": {
   "codemirror_mode": {
    "name": "ipython",
    "version": 3
   },
   "file_extension": ".py",
   "mimetype": "text/x-python",
   "name": "python",
   "nbconvert_exporter": "python",
   "pygments_lexer": "ipython3",
   "version": "3.8.2"
  }
 },
 "nbformat": 4,
 "nbformat_minor": 2
}
